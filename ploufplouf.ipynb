import json

sample_data = [
	{
        "name": "YUURI78",
        "occurrence" : 10
    },
	{
        "name": "Laurent-Qu-Cle",
        "occurrence" : 1
    },
	{
        "name": "Skychokz",
        "occurrence" : 1
    },
	{
        "name": "greg07",
        "occurrence" : 1
    }
]

for obj in sample_data:
    for j in range(0, int(obj["occurrence"])):
        print(obj["name"])
        
