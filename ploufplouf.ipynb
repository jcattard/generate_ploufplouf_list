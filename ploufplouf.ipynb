{
  "metadata": {
    "kernelspec": {
      "name": "python",
      "display_name": "Python (Pyodide)",
      "language": "python"
    },
    "language_info": {
      "codemirror_mode": {
        "name": "python",
        "version": 3
      },
      "file_extension": ".py",
      "mimetype": "text/x-python",
      "name": "python",
      "nbconvert_exporter": "python",
      "pygments_lexer": "ipython3",
      "version": "3.8"
    }
  },
  "nbformat_minor": 4,
  "nbformat": 4,
  "cells": [
    {
      "cell_type": "code",
      "source": "import json\n\nsample_data = [\n\t{\n        \"name\": \"YUURI78\",\n        \"occurrence\" : 10\n    },\n\t{\n        \"name\": \"Laurent-Qu-Cle\",\n        \"occurrence\" : 1\n    },\n\t{\n        \"name\": \"Skychokz\",\n        \"occurrence\" : 1\n    },\n\t{\n        \"name\": \"greg07\",\n        \"occurrence\" : 1\n    }\n]\n\nfor obj in sample_data:\n    for j in range(0, int(obj[\"occurrence\"])):\n        print(obj[\"name\"])\n        \n",
      "metadata": {
        "trusted": true
      },
      "outputs": [
        {
          "name": "stdout",
          "text": "YUURI78\nLaurent-Qu-Cle\nSkychokz\ngreg07\n",
          "output_type": "stream"
        }
      ],
      "execution_count": 3
    }
  ]
}
