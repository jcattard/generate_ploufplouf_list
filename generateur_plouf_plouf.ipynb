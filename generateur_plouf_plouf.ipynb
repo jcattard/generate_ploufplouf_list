{
 "cells": [
  {
   "cell_type": "code",
   "execution_count": 1,
   "id": "13e03cf2-c524-4d70-bcc3-f210457166d1",
   "metadata": {},
   "outputs": [
    {
     "name": "stdout",
     "output_type": "stream",
     "text": [
      "YUURI78\n",
      "YUURI78\n",
      "YUURI78\n",
      "YUURI78\n",
      "YUURI78\n",
      "YUURI78\n",
      "YUURI78\n",
      "YUURI78\n",
      "YUURI78\n",
      "YUURI78\n",
      "Laurent-Qu-Cle\n",
      "Skychokz\n",
      "greg07\n"
     ]
    }
   ],
   "source": [
    "import json\n",
    "\n",
    "sample_data = [\n",
    "\t{\n",
    "        \"name\": \"YUURI78\",\n",
    "        \"occurrence\" : 10\n",
    "    },\n",
    "\t{\n",
    "        \"name\": \"Laurent-Qu-Cle\",\n",
    "        \"occurrence\" : 1\n",
    "    },\n",
    "\t{\n",
    "        \"name\": \"Skychokz\",\n",
    "        \"occurrence\" : 1\n",
    "    },\n",
    "\t{\n",
    "        \"name\": \"greg07\",\n",
    "        \"occurrence\" : 1\n",
    "    }\n",
    "]\n",
    "\n",
    "for obj in sample_data:\n",
    "    for j in range(0, int(obj[\"occurrence\"])):\n",
    "        print(obj[\"name\"])"
   ]
  }
 ],
 "metadata": {
  "kernelspec": {
   "display_name": "Python 3 (ipykernel)",
   "language": "python",
   "name": "python3"
  },
  "language_info": {
   "codemirror_mode": {
    "name": "ipython",
    "version": 3
   },
   "file_extension": ".py",
   "mimetype": "text/x-python",
   "name": "python",
   "nbconvert_exporter": "python",
   "pygments_lexer": "ipython3",
   "version": "3.11.7"
  }
 },
 "nbformat": 4,
 "nbformat_minor": 5
}
